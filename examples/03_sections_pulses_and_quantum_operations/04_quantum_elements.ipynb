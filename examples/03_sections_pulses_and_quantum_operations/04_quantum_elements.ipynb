{
 "cells": [
  {
   "cell_type": "markdown",
   "id": "e410a078-4687-4c32-b3c2-e903bb828d86",
   "metadata": {},
   "source": [
    "# Quantum Elements\n",
    "\n",
    "It is useful to think of the quantum device we are controlling in terms of components such as qubits, couplers or TWPAs (Travelling Wave Parametric Amplifiers). This allows us to define experiments in terms of operations on these components, rather than having always think in terms of actions on individual signal lines.\n",
    "\n",
    "In LabOne Q, these components are modelled using the [dsl.QuantumElement](https://docs.zhinst.com/labone_q_user_manual/core/reference/dsl/quantum.html#laboneq.dsl.quantum.quantum_element.QuantumElement) class.\n",
    "\n",
    "A `QuantumElement` consists of:\n",
    "\n",
    "* a set of logical signal lines used to control and/or measure the component, and\n",
    "* a set of parameters for controlling the component\n",
    "\n",
    "Each logical signal line is associated with a name that specifies its function.\n",
    "\n",
    "For example, a transmon qubit might have a signal named `drive` that is mapped to the logical signal `q0/drive` that is used to drive the G-E transition of the qubit and a parameter named `resonance_frequency_ge` that specifieds the frequency of the G-E transition in Hz.\n",
    "\n",
    "`QuantumElement` is a base class that contains only the core functionality needed to describe a quantum component. Each group using LabOne Q will likely want create their own sub-class of `QuantumElement` that describes their own components.\n",
    "\n",
    "In this tutorial we'll go through everything provided by the `QuantumElement` base class and show you how to go about writing your own.\n",
    "\n",
    "In addition to the `QuantumElement` class, LabOne Q provides two sub-classes:\n",
    "\n",
    "* `Transmon`: A demonstration transmon component.\n",
    "* `TunableTransmon`: A tunable transmon component regularly tested on real tunable transmons.\n",
    "\n",
    "You should not use either of these classes in your own experiments but you are welcome to copy them and use them as the starting point for defining your own quantum components.\n",
    "\n",
    "<div class=\"alert alert-block alert-info\">\n",
    "<b>Note:</b> The <em>QuantumElement</em> class changed significantly in LabOne Q 2.44. This tutorial\n",
    "also provides a short section on how to save such older quantum elements in LabOne Q 2.43 or earlier and load them in LabOne 2.44 or later.\n",
    "</div>\n",
    "\n",
    "No tunable transmons were harmed during the writing of this tutorial."
   ]
  },
  {
   "cell_type": "markdown",
   "id": "4e2f0b65-6e28-424b-bb9f-447d446d8fbe",
   "metadata": {},
   "source": [
    "## A first look at a quantum element\n",
    "\n",
    "Let's start by taking a look at the demonstration `Transmon` quantum element."
   ]
  },
  {
   "cell_type": "code",
   "execution_count": null,
   "id": "1ae45513-8918-4117-b132-edc52030438f",
   "metadata": {},
   "outputs": [],
   "source": [
    "from laboneq.simple import Transmon"
   ]
  },
  {
   "cell_type": "markdown",
   "id": "80ac9361-9b33-4cd4-83f4-26054462b0fe",
   "metadata": {},
   "source": [
    "To create a `Transmon` we need to specify a `uid` and the map from the signal roles to the corresponding logical signal paths for the particular qubit: "
   ]
  },
  {
   "cell_type": "code",
   "execution_count": null,
   "id": "4adc5a03-6156-4a13-b467-1b5d8fdfc537",
   "metadata": {},
   "outputs": [],
   "source": [
    "q0 = Transmon(\n",
    "    uid=\"q0\",\n",
    "    signals={\n",
    "        \"drive\": \"q0/drive\",\n",
    "        \"measure\": \"q0/measure\",\n",
    "        \"acquire\": \"q0/acquire\",\n",
    "    },\n",
    ")"
   ]
  },
  {
   "cell_type": "markdown",
   "id": "3499b12c-f266-40f3-ad90-253967033da7",
   "metadata": {},
   "source": [
    "The list of required signal roles is available via the `REQUITED_SIGNALS` attribute of the class. Required signal roles must be supplied when the qubit is created:"
   ]
  },
  {
   "cell_type": "code",
   "execution_count": null,
   "id": "58056161-546d-46e3-bf50-363044d94154",
   "metadata": {},
   "outputs": [],
   "source": [
    "Transmon.REQUIRED_SIGNALS"
   ]
  },
  {
   "cell_type": "markdown",
   "id": "7ee3fea9-0238-401d-a207-2770bed7b10d",
   "metadata": {},
   "source": [
    "There is also a list of optional signal roles. For `Transmon` these are:"
   ]
  },
  {
   "cell_type": "code",
   "execution_count": null,
   "id": "30ef408d-2a1d-41e2-8d03-acc4bf1603c3",
   "metadata": {},
   "outputs": [],
   "source": [
    "Transmon.OPTIONAL_SIGNALS"
   ]
  },
  {
   "cell_type": "markdown",
   "id": "e85725c9-6371-48bc-9c37-ec2777ce00af",
   "metadata": {},
   "source": [
    "Let's print out the qubit we just created. We didn't supply any parameters when we created `q0` so the parameter values are the defaults:"
   ]
  },
  {
   "cell_type": "code",
   "execution_count": null,
   "id": "4acb3260-8194-488a-9c62-bcd593b5e9e8",
   "metadata": {},
   "outputs": [],
   "source": [
    "q0"
   ]
  },
  {
   "cell_type": "markdown",
   "id": "14ee31bf-d490-49cf-8efd-e4e8d936f52f",
   "metadata": {},
   "source": [
    "We can also access the parameters individually:"
   ]
  },
  {
   "cell_type": "code",
   "execution_count": null,
   "id": "64a237ab-42c3-45ae-938b-025cef3b4b3c",
   "metadata": {},
   "outputs": [],
   "source": [
    "q0.parameters.drive_range"
   ]
  },
  {
   "cell_type": "markdown",
   "id": "2b689c4c-64b9-4a65-986f-2fd7e6693fa0",
   "metadata": {},
   "source": [
    "Or print out just the parameters"
   ]
  },
  {
   "cell_type": "code",
   "execution_count": null,
   "id": "dbcb6651-3e48-4222-a883-fa4af25eb53e",
   "metadata": {},
   "outputs": [],
   "source": [
    "q0.parameters"
   ]
  },
  {
   "cell_type": "markdown",
   "id": "38898598-e860-43ac-94b2-6792fa43254c",
   "metadata": {},
   "source": [
    "The `uid` and `signals` can also be accessed directly:"
   ]
  },
  {
   "cell_type": "code",
   "execution_count": null,
   "id": "9aca617f-4373-42cf-9829-0322a3e6a1ae",
   "metadata": {},
   "outputs": [],
   "source": [
    "q0.uid"
   ]
  },
  {
   "cell_type": "code",
   "execution_count": null,
   "id": "38687f5d-3dc7-46f2-80a9-d2408f1112bb",
   "metadata": {},
   "outputs": [],
   "source": [
    "q0.signals"
   ]
  },
  {
   "cell_type": "markdown",
   "id": "65f47862-0ca5-420c-95bf-91918f891284",
   "metadata": {},
   "source": [
    "Parameter values can be supplied when a qubit is created:"
   ]
  },
  {
   "cell_type": "code",
   "execution_count": null,
   "id": "59c91fae-edf4-4b25-b087-cc7520da9b19",
   "metadata": {},
   "outputs": [],
   "source": [
    "q0 = Transmon(\n",
    "    uid=\"q0\",\n",
    "    signals={\n",
    "        \"drive\": \"q0/drive\",\n",
    "        \"measure\": \"q0/measure\",\n",
    "        \"acquire\": \"q0/acquire\",\n",
    "    },\n",
    "    parameters={\n",
    "        \"resonance_frequency_ge\": 5.0e9,\n",
    "    },\n",
    ")\n",
    "q0"
   ]
  },
  {
   "cell_type": "markdown",
   "id": "eba71902-9bd7-4c30-8fc7-46255a368baa",
   "metadata": {},
   "source": [
    "Or replaced, which creates a new qubit with the updated parameters:"
   ]
  },
  {
   "cell_type": "code",
   "execution_count": null,
   "id": "ae17ccbc-0168-40c2-816a-f3b088072c68",
   "metadata": {},
   "outputs": [],
   "source": [
    "q0_custom = q0.replace(resonance_frequency_ge=5.1e9)\n",
    "q0_custom"
   ]
  }
 ],
 "metadata": {
  "kernelspec": {
   "display_name": "Python 3 (ipykernel)",
   "language": "python",
   "name": "python3"
  },
  "language_info": {
   "codemirror_mode": {
    "name": "ipython",
    "version": 3
   },
   "file_extension": ".py",
   "mimetype": "text/x-python",
   "name": "python",
   "nbconvert_exporter": "python",
   "pygments_lexer": "ipython3",
   "version": "3.12.8"
  }
 },
 "nbformat": 4,
 "nbformat_minor": 5
}
