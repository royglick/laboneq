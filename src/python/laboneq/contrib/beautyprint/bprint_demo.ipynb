{
 "cells": [
  {
   "cell_type": "code",
   "execution_count": null,
   "metadata": {},
   "outputs": [],
   "source": [
    "from laboneq.simple import *  # noqa: F403\n",
    "\n",
    "## create experiment object\n",
    "exp = Experiment(\n",
    "    uid=\"minimal_experiment\",\n",
    "    signals=[\n",
    "        ExperimentSignal(\"simple_pulse\"),\n",
    "    ],\n",
    ")\n",
    "## define a pulse to be played, simple constant pulse of 1 us\n",
    "my_first_pulse = pulse_library.const(length=1e-6, amplitude=0.8)\n",
    "\n",
    "### experimental pulse sequence\n",
    "with exp.acquire_loop_rt(\n",
    "    count=1,\n",
    "    uid=\"shots\",\n",
    "):\n",
    "    with exp.section(uid=\"pulse\"):\n",
    "        # play a simple pulse\n",
    "        exp.play(signal=\"simple_pulse\", pulse=my_first_pulse)"
   ]
  },
  {
   "cell_type": "code",
   "execution_count": null,
   "metadata": {},
   "outputs": [],
   "source": [
    "from bprint import bprint\n",
    "\n",
    "bprint(exp)"
   ]
  },
  {
   "cell_type": "code",
   "execution_count": null,
   "metadata": {},
   "outputs": [],
   "source": []
  }
 ],
 "metadata": {
  "kernelspec": {
   "display_name": "laboneq_develop",
   "language": "python",
   "name": "python3"
  },
  "language_info": {
   "codemirror_mode": {
    "name": "ipython",
    "version": 3
   },
   "file_extension": ".py",
   "mimetype": "text/x-python",
   "name": "python",
   "nbconvert_exporter": "python",
   "pygments_lexer": "ipython3",
   "version": "3.11.8"
  }
 },
 "nbformat": 4,
 "nbformat_minor": 2
}
